{
 "cells": [
  {
   "cell_type": "markdown",
   "id": "57010de7-a5c5-49cb-91e3-f46deb41e16d",
   "metadata": {},
   "source": [
    "# 1 WAP AREA OF RECTANGELE"
   ]
  },
  {
   "cell_type": "code",
   "execution_count": 1,
   "id": "d3940092-07da-44a3-b28f-c19db1eab126",
   "metadata": {},
   "outputs": [
    {
     "name": "stdin",
     "output_type": "stream",
     "text": [
      "length in cm 4\n",
      "breadth in cm 8\n"
     ]
    },
    {
     "name": "stdout",
     "output_type": "stream",
     "text": [
      "your area rectangle is:  32 cm^2\n"
     ]
    }
   ],
   "source": [
    "# wap area of rectangle\n",
    "\n",
    "l = int(input(\"length in cm\"))\n",
    "\n",
    "b = int(input(\"breadth in cm\"))\n",
    "\n",
    "a = l*b\n",
    "\n",
    "print(\"your area rectangle is: \",a,\"cm^2\")"
   ]
  },
  {
   "cell_type": "markdown",
   "id": "e4a9c64d-642a-4f3e-b840-ba64eec5100b",
   "metadata": {},
   "source": [
    "# 2 WAP AREA OF CIRCLE"
   ]
  },
  {
   "cell_type": "code",
   "execution_count": 2,
   "id": "2f0deb7e-8d68-499c-884c-538399594494",
   "metadata": {},
   "outputs": [
    {
     "name": "stdin",
     "output_type": "stream",
     "text": [
      "enter your radius 56\n"
     ]
    },
    {
     "name": "stdout",
     "output_type": "stream",
     "text": [
      "your area is: 9847.04\n"
     ]
    }
   ],
   "source": [
    "r = int(input(\"enter your radius\"))\n",
    "\n",
    "a = 3.14*(r*r)\n",
    "\n",
    "print(\"your area is:\",a)"
   ]
  },
  {
   "cell_type": "markdown",
   "id": "5b4f35e6-7689-4810-9148-4a4df3befcd8",
   "metadata": {},
   "source": [
    "# 3 WAP AREA OF CUBOID "
   ]
  },
  {
   "cell_type": "code",
   "execution_count": 3,
   "id": "2c181c4b-845d-4874-aa31-4900769355c6",
   "metadata": {},
   "outputs": [
    {
     "name": "stdin",
     "output_type": "stream",
     "text": [
      "enter length 56\n",
      "enter breadth 55\n",
      "enter height 45\n"
     ]
    },
    {
     "name": "stdout",
     "output_type": "stream",
     "text": [
      "the area is: 16150\n"
     ]
    }
   ],
   "source": [
    "l = int(input(\"enter length\"))\n",
    "\n",
    "b = int(input(\"enter breadth\"))\n",
    "\n",
    "h = int(input(\"enter height\"))\n",
    "\n",
    "a = 2*(l*b+b*h+h*l)\n",
    "\n",
    "print(\"the area is:\",a)"
   ]
  },
  {
   "cell_type": "markdown",
   "id": "7d75ef60-ce9a-4295-bd42-6c4bd5180ce9",
   "metadata": {},
   "source": [
    "# 4 WAP AREA OF CUBE"
   ]
  },
  {
   "cell_type": "code",
   "execution_count": 4,
   "id": "c57194a8-85b3-4182-a9f7-49c5b358f551",
   "metadata": {},
   "outputs": [
    {
     "name": "stdin",
     "output_type": "stream",
     "text": [
      "enter length of cube 45\n"
     ]
    },
    {
     "name": "stdout",
     "output_type": "stream",
     "text": [
      "the area of cube is: 12150\n"
     ]
    }
   ],
   "source": [
    "a = int(input(\"enter length of cube\"))\n",
    "\n",
    "x = 6*(a*a)\n",
    "\n",
    "print(\"the area of cube is:\",x)"
   ]
  },
  {
   "cell_type": "markdown",
   "id": "1340a533-3f79-4958-8002-d9aaabb2352e",
   "metadata": {},
   "source": [
    "# 5 WAP AREA OF CSA OF CYLINDER"
   ]
  },
  {
   "cell_type": "code",
   "execution_count": 5,
   "id": "b1f2b6ea-4e70-4a1a-846a-524c67e82aa1",
   "metadata": {},
   "outputs": [
    {
     "name": "stdin",
     "output_type": "stream",
     "text": [
      "enter radius 45\n",
      "enter height 35\n"
     ]
    },
    {
     "name": "stdout",
     "output_type": "stream",
     "text": [
      "your c.s.a is: 9891.0\n"
     ]
    }
   ],
   "source": [
    "r = int(input(\"enter radius\"))\n",
    "\n",
    "h = int(input(\"enter height\"))\n",
    "\n",
    "a = 2*(3.14*(r*h))\n",
    "\n",
    "print(\"your c.s.a is:\",a)"
   ]
  },
  {
   "cell_type": "markdown",
   "id": "d63efbe0-00d8-4838-9377-ba261f1794f0",
   "metadata": {},
   "source": [
    "# 6 WAP AREA OF TSA OF CYLINDER"
   ]
  },
  {
   "cell_type": "code",
   "execution_count": 6,
   "id": "79780528-af0e-45ca-ae02-1f23d5bfc1f0",
   "metadata": {},
   "outputs": [
    {
     "name": "stdin",
     "output_type": "stream",
     "text": [
      "enter radius 34\n",
      "enter height 34\n"
     ]
    },
    {
     "name": "stdout",
     "output_type": "stream",
     "text": [
      "area os: 14519.36\n"
     ]
    }
   ],
   "source": [
    "r = int(input(\"enter radius\"))\n",
    "\n",
    "h = int(input(\"enter height\"))\n",
    "\n",
    "a = 2*3.14*r*(r+h)\n",
    "\n",
    "print(\"area os:\",a)"
   ]
  },
  {
   "cell_type": "markdown",
   "id": "3cbd6e43-551c-4f98-bff7-cfc8924a2c99",
   "metadata": {},
   "source": [
    "# 7 WAP AREA OF TSA OF  RIGHT  CIRCULAR CONE"
   ]
  },
  {
   "cell_type": "code",
   "execution_count": 7,
   "id": "80618036-321a-46f8-904d-09c57736478b",
   "metadata": {},
   "outputs": [
    {
     "name": "stdin",
     "output_type": "stream",
     "text": [
      "enter radius 3\n",
      "enter lenght 34\n"
     ]
    },
    {
     "name": "stdout",
     "output_type": "stream",
     "text": [
      "csa is: 320.28\n"
     ]
    }
   ],
   "source": [
    "r = int(input(\"enter radius\"))\n",
    "\n",
    "l = int(input(\"enter lenght\"))\n",
    "\n",
    "a = 3.14*r*l\n",
    "\n",
    "print(\"csa is:\",a)"
   ]
  },
  {
   "cell_type": "markdown",
   "id": "1f96092a-e22b-427c-907d-da66bb53f6a2",
   "metadata": {},
   "source": [
    "# 8 WAP AREA OF TSA OF RIGHT CIRCULAR CONE"
   ]
  },
  {
   "cell_type": "code",
   "execution_count": 8,
   "id": "4153b870-088d-4a4d-93e3-e3a3ff5513d1",
   "metadata": {},
   "outputs": [
    {
     "name": "stdin",
     "output_type": "stream",
     "text": [
      "enter radius 35\n",
      "ente slant height5 665\n"
     ]
    },
    {
     "name": "stdout",
     "output_type": "stream",
     "text": [
      "the tsa is: 76930.0\n"
     ]
    }
   ],
   "source": [
    "r = int(input(\"enter radius\"))\n",
    "\n",
    "l = int(input(\"ente slant height5\"))\n",
    "\n",
    "a = 3.14*r*(l+r)\n",
    "\n",
    "print(\"the tsa is:\",a)\n"
   ]
  },
  {
   "cell_type": "markdown",
   "id": "19b9ab25-8fda-452c-a3f3-acdcbf75a907",
   "metadata": {},
   "source": [
    "# 9 WAP TSA OF SPHERE"
   ]
  },
  {
   "cell_type": "code",
   "execution_count": 9,
   "id": "3c585e54-1ee8-4cf5-850e-fb91dab268a7",
   "metadata": {},
   "outputs": [
    {
     "name": "stdin",
     "output_type": "stream",
     "text": [
      "enter radius 76\n"
     ]
    },
    {
     "name": "stdout",
     "output_type": "stream",
     "text": [
      "tsa of sphere is: 72546.56\n"
     ]
    }
   ],
   "source": [
    "r = int(input(\"enter radius\"))\n",
    "\n",
    "a = 4*(3.14*(r*r))\n",
    "\n",
    "print(\"tsa of sphere is:\",a)"
   ]
  },
  {
   "cell_type": "markdown",
   "id": "19dedbd1-77f6-4a59-9fbf-7639f3eceaa5",
   "metadata": {},
   "source": [
    "# 10 WAP VOLUME OF CUBOID"
   ]
  },
  {
   "cell_type": "code",
   "execution_count": 10,
   "id": "dab92268-83f1-4357-aab1-a7659073beed",
   "metadata": {},
   "outputs": [
    {
     "name": "stdin",
     "output_type": "stream",
     "text": [
      "enter lenght 5\n",
      "enter breadth 5\n",
      "enter height 4\n"
     ]
    },
    {
     "name": "stdout",
     "output_type": "stream",
     "text": [
      "volume of cuboid is: 100\n"
     ]
    }
   ],
   "source": [
    "l = int(input(\"enter lenght\"))\n",
    "\n",
    "b = int(input(\"enter breadth\"))\n",
    "\n",
    "h = int(input(\"enter height\"))\n",
    "\n",
    "a = l*b*h\n",
    "\n",
    "print(\"volume of cuboid is:\",a)"
   ]
  },
  {
   "cell_type": "markdown",
   "id": "321b6734-01c2-4b6f-9ac2-bb805869c553",
   "metadata": {},
   "source": [
    "# 11 WAP VOLUME OF CUBE"
   ]
  },
  {
   "cell_type": "code",
   "execution_count": 11,
   "id": "b85a16b8-d019-4e4a-afbd-6f3c68dcf172",
   "metadata": {},
   "outputs": [
    {
     "name": "stdin",
     "output_type": "stream",
     "text": [
      "enter lenght 4\n"
     ]
    },
    {
     "name": "stdout",
     "output_type": "stream",
     "text": [
      "volume of cube is: 64\n"
     ]
    }
   ],
   "source": [
    "l = int(input(\"enter lenght\"))\n",
    "\n",
    "a = l*l*l\n",
    "\n",
    "print(\"volume of cube is:\",a)"
   ]
  },
  {
   "cell_type": "markdown",
   "id": "deddc3f6-2067-4a82-b36e-ab64166ec8b9",
   "metadata": {},
   "source": [
    "# 12 WAP VOLUME OF CYLINDER "
   ]
  },
  {
   "cell_type": "code",
   "execution_count": 12,
   "id": "6940f36f-943f-47a5-a5ba-f97ca1e2f2a5",
   "metadata": {},
   "outputs": [
    {
     "name": "stdin",
     "output_type": "stream",
     "text": [
      "enter radius 4\n",
      "enter height 75\n"
     ]
    },
    {
     "name": "stdout",
     "output_type": "stream",
     "text": [
      "volume is: 3768.0\n"
     ]
    }
   ],
   "source": [
    "r = int(input(\"enter radius\"))\n",
    "\n",
    "h = int(input(\"enter height\"))\n",
    "\n",
    "v = 3.14*(r*r)*h\n",
    "\n",
    "print(\"volume is:\",v)"
   ]
  },
  {
   "cell_type": "markdown",
   "id": "baece0b4-8502-4d2f-8bd6-522c2fab2ce3",
   "metadata": {},
   "source": [
    "# 13 WAP VOLUME OF CONE "
   ]
  },
  {
   "cell_type": "code",
   "execution_count": 13,
   "id": "65dd56e3-6df5-4ddb-933a-1394859cec4b",
   "metadata": {},
   "outputs": [
    {
     "name": "stdin",
     "output_type": "stream",
     "text": [
      "enter radius 76\n",
      "enter height 5\n"
     ]
    },
    {
     "name": "stdout",
     "output_type": "stream",
     "text": [
      "volumeis: 30227.73333333333\n"
     ]
    }
   ],
   "source": [
    " r = int(input(\"enter radius\"))\n",
    "\n",
    "h = int(input(\"enter height\"))\n",
    "\n",
    "v = 1/3*(3.14*(r*r)*h)\n",
    "\n",
    "print(\"volumeis:\",v)"
   ]
  },
  {
   "cell_type": "markdown",
   "id": "527b7ad3-ced9-4c73-b439-1439859fd232",
   "metadata": {},
   "source": [
    "# 14 WAP VOLUME OF SPHERE "
   ]
  },
  {
   "cell_type": "code",
   "execution_count": 14,
   "id": "69b9c418-285a-4aa8-ae6c-b23e7c180119",
   "metadata": {},
   "outputs": [
    {
     "name": "stdin",
     "output_type": "stream",
     "text": [
      "enter radius 5\n"
     ]
    },
    {
     "name": "stdout",
     "output_type": "stream",
     "text": [
      "volume is: 523.3333333333333\n"
     ]
    }
   ],
   "source": [
    "r = int(input(\"enter radius\"))\n",
    "\n",
    "v = 4/3*(3.14*(r*r*r))\n",
    "\n",
    "print(\"volume is:\",v)"
   ]
  },
  {
   "cell_type": "markdown",
   "id": "7b81c1d3-fa00-44f7-95ff-3ef2ccefd4a9",
   "metadata": {},
   "source": [
    "# 15 WAP PERIMETER OF RECTANGLE "
   ]
  },
  {
   "cell_type": "code",
   "execution_count": 15,
   "id": "91aa0b0c-e1e4-4e0f-8eb8-0d8425f984a4",
   "metadata": {},
   "outputs": [
    {
     "name": "stdin",
     "output_type": "stream",
     "text": [
      "enter lenght in cm 5\n",
      "enter breadth in cm 54\n"
     ]
    },
    {
     "name": "stdout",
     "output_type": "stream",
     "text": [
      "perimenter of rectanlge is: 118 cm\n"
     ]
    }
   ],
   "source": [
    "l = int(input(\"enter lenght in cm\"))\n",
    "\n",
    "b = int(input(\"enter breadth in cm\"))\n",
    "\n",
    "a = 2*(l+b)\n",
    "\n",
    "print(\"perimenter of rectanlge is:\",a,\"cm\")"
   ]
  },
  {
   "cell_type": "markdown",
   "id": "0be08aa1-7e6f-49bb-917d-04fcbe8b0385",
   "metadata": {},
   "source": [
    "# 16 WAP AREA OF SQUARE"
   ]
  },
  {
   "cell_type": "code",
   "execution_count": 16,
   "id": "c341b60a-c20d-4e36-a59c-1c20135d6c2e",
   "metadata": {},
   "outputs": [
    {
     "name": "stdin",
     "output_type": "stream",
     "text": [
      "enter lenght in cm 4\n"
     ]
    },
    {
     "name": "stdout",
     "output_type": "stream",
     "text": [
      "your area of square is: 16 cm^2\n"
     ]
    }
   ],
   "source": [
    "A = int(input(\"enter lenght in cm\"))\n",
    "\n",
    "x = A*A\n",
    "\n",
    "print(\"your area of square is:\",x,\"cm^2\")"
   ]
  },
  {
   "cell_type": "markdown",
   "id": "5fd90340-a571-47a8-b358-9faecd01c94e",
   "metadata": {},
   "source": [
    "# 17 WAP AREA OF TRIANGLE"
   ]
  },
  {
   "cell_type": "code",
   "execution_count": 17,
   "id": "7845f5bf-27a0-47b4-9c9d-1e36abcf1763",
   "metadata": {},
   "outputs": [
    {
     "name": "stdin",
     "output_type": "stream",
     "text": [
      "enter height 4\n",
      "enter base 6\n"
     ]
    },
    {
     "name": "stdout",
     "output_type": "stream",
     "text": [
      "your area is: 12.0 cm^2\n"
     ]
    }
   ],
   "source": [
    "h = int(input(\"enter height\"))\n",
    "\n",
    "b = int(input(\"enter base\"))\n",
    "\n",
    "a = 1/2*(b*h)\n",
    "\n",
    "print(\"your area is:\",a,\"cm^2\")"
   ]
  },
  {
   "cell_type": "markdown",
   "id": "fefdc441-8199-4ada-81aa-72adadb95754",
   "metadata": {},
   "source": [
    "# 18 WAP GREATEST NO. IN THREE NO."
   ]
  },
  {
   "cell_type": "code",
   "execution_count": 18,
   "id": "bbc75f14-4088-4ed0-a968-39538550052b",
   "metadata": {},
   "outputs": [
    {
     "name": "stdin",
     "output_type": "stream",
     "text": [
      "enter first number 7\n",
      "enter second number 7\n",
      "enter third number 7\n"
     ]
    },
    {
     "name": "stdout",
     "output_type": "stream",
     "text": [
      "the greatest no is: 7\n"
     ]
    }
   ],
   "source": [
    "a = int(input(\"enter first number\"))\n",
    "\n",
    "b = int(input(\"enter second number\"))\n",
    "\n",
    "c = int(input(\"enter third number\"))\n",
    "\n",
    "if a>b:\n",
    "    if a>c:\n",
    "        print(\"the greatest no is:\",a)\n",
    "    else:\n",
    "        print(\"the greatest no is:\",c)\n",
    "else:\n",
    "    if b>c:\n",
    "        print(\"the greatest no is:\",b)\n",
    "    else:\n",
    "        print(\"the greatest no is:\",c)"
   ]
  },
  {
   "cell_type": "markdown",
   "id": "8aaf6f2b-4ba5-4026-8847-c85c84a87f1e",
   "metadata": {},
   "source": [
    "# 19 WAP PERIMETER OF TRIANGLE"
   ]
  },
  {
   "cell_type": "code",
   "execution_count": 19,
   "id": "1681b93c-b58f-47e1-81a1-703063b6d862",
   "metadata": {},
   "outputs": [
    {
     "name": "stdin",
     "output_type": "stream",
     "text": [
      "enter first side of tringle  7\n",
      "enter second sede of tringle  6\n",
      "enter third side of tringle  5\n"
     ]
    },
    {
     "name": "stdout",
     "output_type": "stream",
     "text": [
      "the perimeter is: 18\n"
     ]
    }
   ],
   "source": [
    "a = int(input(\"enter first side of tringle \"))\n",
    "\n",
    "b = int(input(\"enter second sede of tringle \"))\n",
    "\n",
    "c = int(input(\"enter third side of tringle \"))\n",
    "\n",
    "perimeter=a+b+c\n",
    "\n",
    "print(\"the perimeter is:\",perimeter)"
   ]
  },
  {
   "cell_type": "markdown",
   "id": "0882fc66-2fdd-496e-af67-824fab0c6944",
   "metadata": {},
   "source": [
    "# 20 WAP GREATEST NO. FOUR NO."
   ]
  },
  {
   "cell_type": "code",
   "execution_count": 23,
   "id": "b2132eee-9a22-413e-96e5-1c215787bcbc",
   "metadata": {},
   "outputs": [
    {
     "name": "stdin",
     "output_type": "stream",
     "text": [
      "enter first number  4\n",
      "enter second number  4\n",
      "enter third number 4\n",
      "enter fourth number 4\n"
     ]
    },
    {
     "name": "stdout",
     "output_type": "stream",
     "text": [
      "Either any two values or all the four values are equal\n"
     ]
    }
   ],
   "source": [
    "a = float(input(\"enter first number \"))\n",
    "\n",
    "b = float(input(\"enter second number \"))\n",
    "\n",
    "c = float(input(\"enter third number\"))\n",
    "\n",
    "d = float(input(\"enter fourth number\"))\n",
    "\n",
    "if (a>b and a>c and a>d):\n",
    "    print(\"greaterst number is:\",a)\n",
    "elif (b>c and b>d):\n",
    "    print(\"greatest number is:\",b)\n",
    "elif (c>d):\n",
    "    print(\"greatest number is:\",c)\n",
    "elif (d>c):\n",
    "    print(\"greatest number is:\",d)\n",
    "else:\n",
    "    print(\"Either any two values or all the four values are equal\")\n"
   ]
  },
  {
   "cell_type": "markdown",
   "id": "e5d00126-fbcf-48c3-a8ae-0909dabc1e16",
   "metadata": {},
   "source": [
    "# 21 WAP TO CHECK DIVISION IN RESULT"
   ]
  },
  {
   "cell_type": "code",
   "execution_count": 24,
   "id": "82a53783-07be-4036-993a-096283cad3f1",
   "metadata": {},
   "outputs": [
    {
     "name": "stdin",
     "output_type": "stream",
     "text": [
      "enter marks out of 300  251\n"
     ]
    },
    {
     "name": "stdout",
     "output_type": "stream",
     "text": [
      "percentage is  83.66666666666667 %\n",
      "your division is first \n"
     ]
    }
   ],
   "source": [
    "a = eval(input(\"enter marks out of 300 \"))\n",
    "\n",
    "b = a/300*100\n",
    "\n",
    "print(\"percentage is \",b,\"%\")\n",
    "\n",
    "if (a>300):\n",
    "\n",
    "    print(\"you entered a wrong  marks \")\n",
    "\n",
    "elif b>60:\n",
    "\n",
    "    print(\"your division is first \")\n",
    "\n",
    "elif (b>50 and b<53):\n",
    "\n",
    "    print(\"your division is second \")\n",
    "\n",
    "elif (b>33 and b<50):\n",
    "\n",
    "    print(\"your division is third \")\n",
    "\n",
    "else:\n",
    "\n",
    "    print(\"fail\")"
   ]
  },
  {
   "cell_type": "markdown",
   "id": "daeca0aa-0479-4279-b669-bf24d6c30b51",
   "metadata": {},
   "source": [
    "# 22 WAP TO CHEAK AGE CRITERIA"
   ]
  },
  {
   "cell_type": "code",
   "execution_count": 27,
   "id": "aab17a05-5fbe-4c01-8f42-fc4427aa4320",
   "metadata": {},
   "outputs": [
    {
     "name": "stdin",
     "output_type": "stream",
     "text": [
      "enter your age  22\n"
     ]
    },
    {
     "name": "stdout",
     "output_type": "stream",
     "text": [
      "young\n"
     ]
    }
   ],
   "source": [
    "y = int(input(\"enter your age \"))\n",
    "\n",
    "if (y>0 and y<12):\n",
    "\n",
    "    print(\"kid\")\n",
    "\n",
    "elif (y>=12 and y<19):\n",
    "\n",
    "    print(\"teenager\")\n",
    "\n",
    "elif (y>19 and y<30):\n",
    "\n",
    "    print(\"young\")\n",
    "\n",
    "elif (y>30 and y<45):\n",
    "\n",
    "    print(\"mature\")\n",
    "\n",
    "elif (y>45 and y<60):\n",
    "\n",
    "    print(\"experienced\")\n",
    "\n",
    "elif (y>60 and y<75):\n",
    "\n",
    "    print(\"old\")\n",
    "\n",
    "elif(y>75):\n",
    "\n",
    "    print(\"senior citizen\")"
   ]
  },
  {
   "cell_type": "markdown",
   "id": "85ea6b3f-9b59-4541-a9cd-dccb63a75d10",
   "metadata": {},
   "source": [
    "# 23 WAP SUM OF Nth NO."
   ]
  },
  {
   "cell_type": "code",
   "execution_count": 28,
   "id": "0e334ecc-9490-41b9-9227-3a688290ee72",
   "metadata": {},
   "outputs": [
    {
     "name": "stdin",
     "output_type": "stream",
     "text": [
      "enter limit  5\n"
     ]
    },
    {
     "name": "stdout",
     "output_type": "stream",
     "text": [
      "the sum is 10\n"
     ]
    }
   ],
   "source": [
    "n = int(input(\"enter limit \"))\n",
    "\n",
    "s = 0\n",
    "\n",
    "for c in range(1,n):\n",
    "\n",
    "    s = c+s\n",
    "\n",
    "print(\"the sum is\",s)"
   ]
  },
  {
   "cell_type": "markdown",
   "id": "d523efa1-f761-41bc-a1e9-4370b1c0be2e",
   "metadata": {},
   "source": [
    "# 24 WAP TO CHEAK THE VALUE OF FACTORIAL"
   ]
  },
  {
   "cell_type": "code",
   "execution_count": 1,
   "id": "1451460b-fd92-49d3-add6-d8bd25b82ccc",
   "metadata": {},
   "outputs": [
    {
     "name": "stdin",
     "output_type": "stream",
     "text": [
      "enter a number  10\n"
     ]
    },
    {
     "name": "stdout",
     "output_type": "stream",
     "text": [
      "the factorial of 10 is 1\n"
     ]
    }
   ],
   "source": [
    "a = int(input(\"enter a number \"))\n",
    "\n",
    "factorial = 1\n",
    "\n",
    "if a<0:\n",
    "\n",
    "    print(\"sory,factorial does not exist for negative number \")\n",
    "\n",
    "elif a==0:\n",
    "\n",
    "    print(\"the factorial of 0 is 1\")\n",
    "\n",
    "else:\n",
    "\n",
    "    for i in range (1,a+1):\n",
    "\n",
    "        factorial = factorial*1\n",
    "\n",
    "print(\"the factorial of\",a,\"is\",factorial)"
   ]
  },
  {
   "cell_type": "markdown",
   "id": "0545e6e5-6475-469c-be29-fae18918e830",
   "metadata": {},
   "source": [
    "# 25 WAP TO PRINT MULTIPLICATION TABLE"
   ]
  },
  {
   "cell_type": "code",
   "execution_count": 2,
   "id": "2799b60d-6430-4921-ad39-8ac64e3e01fc",
   "metadata": {},
   "outputs": [
    {
     "name": "stdin",
     "output_type": "stream",
     "text": [
      "show the multiplication table of?  18\n"
     ]
    },
    {
     "name": "stdout",
     "output_type": "stream",
     "text": [
      "18 x 1 = 18\n",
      "18 x 2 = 36\n",
      "18 x 3 = 54\n",
      "18 x 4 = 72\n",
      "18 x 5 = 90\n",
      "18 x 6 = 108\n",
      "18 x 7 = 126\n",
      "18 x 8 = 144\n",
      "18 x 9 = 162\n",
      "18 x 10 = 180\n"
     ]
    }
   ],
   "source": [
    "a = int(input(\"show the multiplication table of? \"))\n",
    "\n",
    "for i in range (1,11):\n",
    "\n",
    "    print(a,\"x\",i,\"=\",a*i)\n",
    "        "
   ]
  },
  {
   "cell_type": "markdown",
   "id": "69c097f0-4ae1-4048-80b8-47ed95a8ee50",
   "metadata": {},
   "source": [
    "# 26 WAP TO PRINT OPPOSITE RIGHT ANGLE TRIANGLE"
   ]
  },
  {
   "cell_type": "code",
   "execution_count": 20,
   "id": "9863a7fd-4168-4027-b9e2-d115093e1db9",
   "metadata": {},
   "outputs": [
    {
     "name": "stdin",
     "output_type": "stream",
     "text": [
      "enter the number rows  4\n"
     ]
    },
    {
     "name": "stdout",
     "output_type": "stream",
     "text": [
      "**********\n"
     ]
    }
   ],
   "source": [
    "num = int(input(\"enter the number rows \"))\n",
    "\n",
    "for i in range(num,0,-1):\n",
    "\n",
    "    for j in range(0,i):\n",
    "\n",
    "        print(\"*\" ,end=\"\")\n",
    "\n",
    "print()"
   ]
  },
  {
   "cell_type": "markdown",
   "id": "c617fed5-264b-4e2c-9636-03606c35a552",
   "metadata": {},
   "source": [
    "# 27 WAP TO PRINT 1,22,333,444"
   ]
  },
  {
   "cell_type": "code",
   "execution_count": 25,
   "id": "eaeea43e-6d59-4fe2-8be6-817358772aa6",
   "metadata": {},
   "outputs": [
    {
     "name": "stdin",
     "output_type": "stream",
     "text": [
      "enter the no of rows: 5\n"
     ]
    },
    {
     "name": "stdout",
     "output_type": "stream",
     "text": [
      "122333444455555\n"
     ]
    }
   ],
   "source": [
    "n = int(input(\"enter the no of rows:\"))\n",
    "\n",
    "for i in range(1,n+1):\n",
    "\n",
    "    for j in range (1,i+1):\n",
    "\n",
    "        print(i,end=\"\")\n",
    "\n",
    "print()"
   ]
  },
  {
   "cell_type": "markdown",
   "id": "751c2ee2-cb6b-4c11-987d-19034b497421",
   "metadata": {},
   "source": [
    "# 28 WAP TO PRINT STAR PATTERN OF OPPOSITE TRIANGLE"
   ]
  },
  {
   "cell_type": "code",
   "execution_count": 4,
   "id": "60f74702-ecd7-48a6-91fe-42b21da84ac5",
   "metadata": {},
   "outputs": [
    {
     "name": "stdin",
     "output_type": "stream",
     "text": [
      "enter the number rows 5\n"
     ]
    },
    {
     "name": "stdout",
     "output_type": "stream",
     "text": [
      "               *****\n"
     ]
    }
   ],
   "source": [
    "num = int(input(\"enter the number rows\"))\n",
    "\n",
    "for i in range(0,num):\n",
    "\n",
    "    for j in range(0,num-i):\n",
    "\n",
    "        print(\" \",end=\"\")\n",
    "\n",
    "for k in range(0,i+1):\n",
    "\n",
    "    print(\"*\",end=\"\")\n",
    "\n",
    "print(\"\")"
   ]
  },
  {
   "cell_type": "markdown",
   "id": "72356a62-11c3-4a3f-99df-4da6e5e27bc5",
   "metadata": {},
   "source": [
    "# 29 WAP TO PRINT PATTERN 1,12,123"
   ]
  },
  {
   "cell_type": "code",
   "execution_count": 6,
   "id": "d45c720d-ff53-4657-8f4a-c9256ade00ff",
   "metadata": {},
   "outputs": [
    {
     "name": "stdin",
     "output_type": "stream",
     "text": [
      "enter the no of rows: 5\n"
     ]
    },
    {
     "name": "stdout",
     "output_type": "stream",
     "text": [
      "1\n",
      "1\n",
      "2\n",
      "1\n",
      "2\n",
      "3\n",
      "1\n",
      "2\n",
      "3\n",
      "4\n",
      "1\n",
      "2\n",
      "3\n",
      "4\n",
      "5\n"
     ]
    }
   ],
   "source": [
    "n=int(input(\"enter the no of rows:\"))\n",
    "for i in range(1,n+1):\n",
    "    for j in range(1,i+1):\n",
    "        print(j,end=\"\")\n",
    "        print()"
   ]
  },
  {
   "cell_type": "markdown",
   "id": "f8a71e54-05b5-4e91-9f04-f83f8f4bc6b6",
   "metadata": {},
   "source": [
    "# 30 WAP TO PRINT FIBONACCI SERIES USE WHILE LOOP"
   ]
  },
  {
   "cell_type": "code",
   "execution_count": null,
   "id": "165ec1cf-4625-4430-bc23-564366286b12",
   "metadata": {},
   "outputs": [
    {
     "name": "stdin",
     "output_type": "stream",
     "text": [
      "enter the range 5\n"
     ]
    }
   ],
   "source": [
    "a=eval(input(\"enter the range\"))\n",
    "i=0\n",
    "first_value=0\n",
    "second_value=1\n",
    "while(i<a):\n",
    "    if(i<1):\n",
    "        Next =i\n",
    "else:\n",
    "    Next = first_value + second_value\n",
    "    first_value = second_value\n",
    "    second_value = Next\n",
    "print(Next)\n",
    "i=i+1"
   ]
  },
  {
   "cell_type": "markdown",
   "id": "e918199e-7365-4eae-9dc5-1d5a64538022",
   "metadata": {},
   "source": [
    "# 31 WAP TO PRINT FIBONACCI SERIES USE FOR LOOP"
   ]
  },
  {
   "cell_type": "code",
   "execution_count": 4,
   "id": "93c9891d-07c3-4511-a484-7c0062e61a0f",
   "metadata": {},
   "outputs": [
    {
     "name": "stdin",
     "output_type": "stream",
     "text": [
      "enter the range 5\n"
     ]
    },
    {
     "name": "stdout",
     "output_type": "stream",
     "text": [
      "5\n",
      "5\n",
      "5\n",
      "5\n",
      "5\n"
     ]
    }
   ],
   "source": [
    "a=int(input(\"enter the range\"))\n",
    "first_value=0\n",
    "second_value=1\n",
    "for num in range(0,num):\n",
    "    if(a<=1):\n",
    "        NEXT=a\n",
    "    else:\n",
    "        NEXT=first_value+second_value\n",
    "        first_value=second_value\n",
    "        second_value=a\n",
    "    print(a)"
   ]
  },
  {
   "cell_type": "markdown",
   "id": "c5da3319-42e8-4f8b-9d1e-f8ceb843feef",
   "metadata": {},
   "source": [
    "# 32 WAP TO PRINT PATTERN A,AB,ABC"
   ]
  },
  {
   "cell_type": "code",
   "execution_count": 5,
   "id": "84f660b6-2b70-4559-ba0b-83586442713e",
   "metadata": {},
   "outputs": [
    {
     "name": "stdin",
     "output_type": "stream",
     "text": [
      "enter a character  E\n"
     ]
    },
    {
     "name": "stdout",
     "output_type": "stream",
     "text": [
      "A\n",
      "AB\n",
      "ABC\n",
      "ABCD\n",
      "ABCDE\n"
     ]
    }
   ],
   "source": [
    "ch=str(input(\"enter a character \"))\n",
    "a=ord(ch)\n",
    "for x in range(65,a+1):\n",
    "    for c in range(65,x+1):\n",
    "        print(chr(c),end=\"\")\n",
    "    print(\"\")"
   ]
  },
  {
   "cell_type": "markdown",
   "id": "67944101-657f-4065-a0ea-afdcd3c83571",
   "metadata": {},
   "source": [
    "# 33 WAP TO CALCULATION OF Xn BY FOR LOOP"
   ]
  },
  {
   "cell_type": "code",
   "execution_count": 6,
   "id": "f8ce5b45-4e7d-4a5d-9636-b250e532848f",
   "metadata": {},
   "outputs": [
    {
     "name": "stdin",
     "output_type": "stream",
     "text": [
      "enter no  5\n",
      "enter power  2\n"
     ]
    },
    {
     "name": "stdout",
     "output_type": "stream",
     "text": [
      "25\n"
     ]
    }
   ],
   "source": [
    "x=int(input(\"enter no \"))\n",
    "b=int(input(\"enter power \"))\n",
    "y=x\n",
    "for a in range(0,b-1):\n",
    "    y=x*y\n",
    "    print(y)"
   ]
  },
  {
   "cell_type": "markdown",
   "id": "b24d8174-4ce3-4caf-b79f-a530e0e4a9f0",
   "metadata": {},
   "source": [
    "# 34 WAP TO CALCULATION OF Xn"
   ]
  },
  {
   "cell_type": "code",
   "execution_count": 7,
   "id": "abe6f56c-eb19-4323-bf88-f7c340cd41d0",
   "metadata": {},
   "outputs": [
    {
     "name": "stdin",
     "output_type": "stream",
     "text": [
      "enter number  2\n",
      "enter power 2\n"
     ]
    },
    {
     "name": "stdout",
     "output_type": "stream",
     "text": [
      "4\n"
     ]
    }
   ],
   "source": [
    "a=int(input(\"enter number \"))\n",
    "b=int(input(\"enter power\"))\n",
    "c=a**b\n",
    "print(c)"
   ]
  },
  {
   "cell_type": "markdown",
   "id": "a4e26c12-de98-4083-966a-ef2ead1e42f1",
   "metadata": {},
   "source": [
    "# 35 WAP TO PRINT THE INTEGER IS PALINDROME OR NOT PALINDROME"
   ]
  },
  {
   "cell_type": "code",
   "execution_count": 8,
   "id": "bec7988a-b845-4833-b5a8-429cfb18055b",
   "metadata": {},
   "outputs": [
    {
     "name": "stdin",
     "output_type": "stream",
     "text": [
      "enter number  121\n"
     ]
    },
    {
     "name": "stdout",
     "output_type": "stream",
     "text": [
      "the number is palindrome\n"
     ]
    }
   ],
   "source": [
    "n=int(input(\"enter number \"))\n",
    "x=n\n",
    "r=0\n",
    "while n>0:\n",
    "    d=n%10\n",
    "    r=r*10+d\n",
    "    n=n//10\n",
    "if x==r:\n",
    "    print(\"the number is palindrome\")\n",
    "else:\n",
    "    print(\"the numner is not palindrome\")"
   ]
  },
  {
   "cell_type": "markdown",
   "id": "c8459c17-67ff-49f1-a0b5-c30141becf96",
   "metadata": {},
   "source": [
    "# 36 WAP TO PRINT FACTORIAL OF LIST"
   ]
  },
  {
   "cell_type": "code",
   "execution_count": 9,
   "id": "1c63b5bd-b0c8-44b7-b6ee-a58992ad9001",
   "metadata": {},
   "outputs": [
    {
     "name": "stdin",
     "output_type": "stream",
     "text": [
      "enter the element of list  5\n",
      "do you want to enter more element : y\n"
     ]
    },
    {
     "name": "stdout",
     "output_type": "stream",
     "text": [
      "the list is: [5]\n",
      "the factorial of each element is: [1, 2, 6, 24, 120]\n"
     ]
    },
    {
     "name": "stdin",
     "output_type": "stream",
     "text": [
      "enter the element of list  6\n",
      "do you want to enter more element : y\n"
     ]
    },
    {
     "name": "stdout",
     "output_type": "stream",
     "text": [
      "the list is: [5, 6]\n",
      "the factorial of each element is: [1, 2, 6, 24, 120, 1, 2, 6, 24, 120]\n",
      "the factorial of each element is: [1, 2, 6, 24, 120, 1, 2, 6, 24, 120, 1, 2, 6, 24, 120, 720]\n"
     ]
    },
    {
     "name": "stdin",
     "output_type": "stream",
     "text": [
      "enter the element of list  62\n",
      "do you want to enter more element : n\n"
     ]
    },
    {
     "name": "stdout",
     "output_type": "stream",
     "text": [
      "the list is: [5, 6, 62]\n",
      "the factorial of each element is: [1, 2, 6, 24, 120, 1, 2, 6, 24, 120, 1, 2, 6, 24, 120, 720, 1, 2, 6, 24, 120]\n",
      "the factorial of each element is: [1, 2, 6, 24, 120, 1, 2, 6, 24, 120, 1, 2, 6, 24, 120, 720, 1, 2, 6, 24, 120, 1, 2, 6, 24, 120, 720]\n",
      "the factorial of each element is: [1, 2, 6, 24, 120, 1, 2, 6, 24, 120, 1, 2, 6, 24, 120, 720, 1, 2, 6, 24, 120, 1, 2, 6, 24, 120, 720, 1, 2, 6, 24, 120, 720, 5040, 40320, 362880, 3628800, 39916800, 479001600, 6227020800, 87178291200, 1307674368000, 20922789888000, 355687428096000, 6402373705728000, 121645100408832000, 2432902008176640000, 51090942171709440000, 1124000727777607680000, 25852016738884976640000, 620448401733239439360000, 15511210043330985984000000, 403291461126605635584000000, 10888869450418352160768000000, 304888344611713860501504000000, 8841761993739701954543616000000, 265252859812191058636308480000000, 8222838654177922817725562880000000, 263130836933693530167218012160000000, 8683317618811886495518194401280000000, 295232799039604140847618609643520000000, 10333147966386144929666651337523200000000, 371993326789901217467999448150835200000000, 13763753091226345046315979581580902400000000, 523022617466601111760007224100074291200000000, 20397882081197443358640281739902897356800000000, 815915283247897734345611269596115894272000000000, 33452526613163807108170062053440751665152000000000, 1405006117752879898543142606244511569936384000000000, 60415263063373835637355132068513997507264512000000000, 2658271574788448768043625811014615890319638528000000000, 119622220865480194561963161495657715064383733760000000000, 5502622159812088949850305428800254892961651752960000000000, 258623241511168180642964355153611979969197632389120000000000, 12413915592536072670862289047373375038521486354677760000000000, 608281864034267560872252163321295376887552831379210240000000000, 30414093201713378043612608166064768844377641568960512000000000000, 1551118753287382280224243016469303211063259720016986112000000000000, 80658175170943878571660636856403766975289505440883277824000000000000, 4274883284060025564298013753389399649690343788366813724672000000000000, 230843697339241380472092742683027581083278564571807941132288000000000000, 12696403353658275925965100847566516959580321051449436762275840000000000000, 710998587804863451854045647463724949736497978881168458687447040000000000000, 40526919504877216755680601905432322134980384796226602145184481280000000000000, 2350561331282878571829474910515074683828862318181142924420699914240000000000000, 138683118545689835737939019720389406345902876772687432540821294940160000000000000, 8320987112741390144276341183223364380754172606361245952449277696409600000000000000, 507580213877224798800856812176625227226004528988036003099405939480985600000000000000, 31469973260387937525653122354950764088012280797258232192163168247821107200000000000000]\n"
     ]
    }
   ],
   "source": [
    "a=[]\n",
    "fact=[]\n",
    "ch=\"y\"\n",
    "while ch==\"y\" or ch==\"y\":\n",
    "    item=int(input(\"enter the element of list \"))\n",
    "    a.append(item)\n",
    "    ch=input(\"do you want to enter more element :\")\n",
    "    print(\"the list is:\",a)\n",
    "    for i in a:\n",
    "        f=1\n",
    "        for j in range (1,i+1):\n",
    "            f=f*j\n",
    "            fact.append(f)\n",
    "        print(\"the factorial of each element is:\",fact)"
   ]
  },
  {
   "cell_type": "markdown",
   "id": "cd11b583-a6d0-451c-b00b-a44656a2d976",
   "metadata": {},
   "source": [
    "# 37 WAP TO PRINT PASCAL TRIANGLE"
   ]
  },
  {
   "cell_type": "code",
   "execution_count": 15,
   "id": "a6e620c6-6374-4517-a0a1-d4a817d81f19",
   "metadata": {},
   "outputs": [
    {
     "name": "stdin",
     "output_type": "stream",
     "text": [
      "enter rows  5\n"
     ]
    },
    {
     "name": "stdout",
     "output_type": "stream",
     "text": [
      "    * \n",
      "   * \n",
      "* \n",
      "  * \n",
      "* \n",
      "* \n",
      " * \n",
      "* \n",
      "* \n",
      "* \n",
      "* \n",
      "* \n",
      "* \n",
      "* \n",
      "* \n"
     ]
    }
   ],
   "source": [
    "a=int(input(\"enter rows \"))\n",
    "for i in range(0,a):\n",
    "    for j in range(0,a-i-1):\n",
    "        print(end=\" \")\n",
    "    for j in range(0,i+1):\n",
    "        print(\"*\",end=\" \")\n",
    "        print()"
   ]
  },
  {
   "cell_type": "markdown",
   "id": "e3432f7d-1c4d-4464-9af0-9d084e0a2857",
   "metadata": {},
   "source": [
    "# 38 WAP TO CREATE A LIST OF VALUES INPUTTED BY USER "
   ]
  },
  {
   "cell_type": "code",
   "execution_count": 16,
   "id": "3f8352e6-cec5-470b-935c-ba5fd6ff748e",
   "metadata": {},
   "outputs": [
    {
     "name": "stdin",
     "output_type": "stream",
     "text": [
      "ene limit 4\n",
      "enter element  34\n",
      "enter element  35\n",
      "enter element  36\n",
      "enter element  37\n"
     ]
    },
    {
     "name": "stdout",
     "output_type": "stream",
     "text": [
      "[34, 35, 36, 37]\n"
     ]
    }
   ],
   "source": [
    "a=eval(input(\"ene limit\"))\n",
    "n=[]\n",
    "for a in range(1,a+1):\n",
    "    a=eval(input(\"enter element \"))\n",
    "    n.append(a)\n",
    "print(n)"
   ]
  },
  {
   "cell_type": "markdown",
   "id": "f2b760da-44a6-45eb-bfd2-3bdda3ef37fe",
   "metadata": {},
   "source": [
    "# 39 WAP TO CREATE A LIST OF VALUES INPUTTED BY USER AND SORT IN INCREASING ORDER"
   ]
  },
  {
   "cell_type": "code",
   "execution_count": 1,
   "id": "54f4142f-e87f-45ac-8e3c-dca8654f8c64",
   "metadata": {},
   "outputs": [
    {
     "name": "stdin",
     "output_type": "stream",
     "text": [
      "enter limit 4\n",
      "enter element  6\n",
      "enter element  7\n",
      "enter element  8\n",
      "enter element  9\n"
     ]
    },
    {
     "name": "stdout",
     "output_type": "stream",
     "text": [
      "[6, 7, 8, 9]\n",
      "[6, 7, 8, 9]\n",
      "after sorting the list is \n",
      "[6, 7, 8, 9]\n"
     ]
    }
   ],
   "source": [
    "a=eval(input(\"enter limit\"))\n",
    "b=[]\n",
    "for a in range(1,a+1):\n",
    "    a=eval(input(\"enter element \"))\n",
    "    b.append(a)\n",
    "print(b)\n",
    "print(b)\n",
    "for i in range(1):\n",
    "    for j in range(0,1-i-1):\n",
    "        if b[j]>b[j+1]:\n",
    "            temp=b[j]\n",
    "            b[j]=b[j+1]\n",
    "            b[j+1]=temp\n",
    "print(\"after sorting the list is \")\n",
    "print(b)"
   ]
  },
  {
   "cell_type": "markdown",
   "id": "8afea307-d567-40c6-8948-c2ed92b0c741",
   "metadata": {},
   "source": [
    "# 40 WAP IN PYTHON TO CREATE A PHONE DICTIONARY"
   ]
  },
  {
   "cell_type": "code",
   "execution_count": 1,
   "id": "9ea458da-4a5d-49eb-8008-77b627567de2",
   "metadata": {},
   "outputs": [
    {
     "name": "stdin",
     "output_type": "stream",
     "text": [
      "enter limit  2\n",
      "enter mobile number  8307989110\n",
      "enter name  JYOTI SINGH\n",
      "enter mobile number  8397071339\n",
      "enter name  MANOJ DIXIT\n"
     ]
    },
    {
     "name": "stdout",
     "output_type": "stream",
     "text": [
      "{8307989110: 'JYOTI SINGH', 8397071339: 'MANOJ DIXIT'}\n"
     ]
    },
    {
     "name": "stdin",
     "output_type": "stream",
     "text": [
      "enter tne no to search in dictionary  8307989110\n"
     ]
    },
    {
     "name": "stdout",
     "output_type": "stream",
     "text": [
      "the name of person JYOTI SINGH\n"
     ]
    }
   ],
   "source": [
    "n= int(input(\"enter limit \"))\n",
    "\n",
    "m={}\n",
    "\n",
    "mob=0\n",
    "\n",
    "name=\"\"\n",
    "\n",
    "i=0\n",
    "\n",
    "for i in range(0,n):\n",
    "    mob=int(input(\"enter mobile number \"))\n",
    "    name=str(input(\"enter name \"))\n",
    "    z2=dict({mob:name})\n",
    "    m.update(z2)\n",
    "print(m)\n",
    "n=int(input(\"enter tne no to search in dictionary \"))\n",
    "print(\"the name of person\",m[n])"
   ]
  },
  {
   "cell_type": "markdown",
   "id": "6fe125f3-e5e8-4c5f-8538-d6a8fe690581",
   "metadata": {},
   "source": [
    "# 41 WAP TO FIND GIVEN NUMBER IS PRIME OR NOT"
   ]
  },
  {
   "cell_type": "code",
   "execution_count": 3,
   "id": "60098b37-bab4-414a-8a37-6892b0541caa",
   "metadata": {},
   "outputs": [
    {
     "name": "stdin",
     "output_type": "stream",
     "text": [
      "enter number  5\n"
     ]
    },
    {
     "name": "stdout",
     "output_type": "stream",
     "text": [
      "5 is prime number \n"
     ]
    }
   ],
   "source": [
    "num=int(input(\"enter number \"))\n",
    "\n",
    "lim=int(num/2)+1\n",
    "\n",
    "for i in range(2,lim):\n",
    "\n",
    "    rem=num%i\n",
    "    if rem==0:\n",
    "        print(num,\"is not prime number \")\n",
    "        break\n",
    "\n",
    "else:\n",
    "\n",
    "    print(num,\"is prime number \")\n",
    "    "
   ]
  },
  {
   "cell_type": "markdown",
   "id": "05375e5d-555b-4d7f-851c-ddca0bdac8a1",
   "metadata": {},
   "source": [
    "# 42 WAP TO FIND GIVEN NUMBER IS EVEN OR ODD"
   ]
  },
  {
   "cell_type": "code",
   "execution_count": 4,
   "id": "576ccbcc-199a-42d1-978a-8e7fc2545973",
   "metadata": {},
   "outputs": [
    {
     "name": "stdin",
     "output_type": "stream",
     "text": [
      "ente number  6\n"
     ]
    },
    {
     "name": "stdout",
     "output_type": "stream",
     "text": [
      "6 is even number \n"
     ]
    }
   ],
   "source": [
    "a=int(input(\"ente number \"))\n",
    "\n",
    "r=a%2\n",
    "\n",
    "if r==0:\n",
    "\n",
    "    print(a,\"is even number \")\n",
    "\n",
    "elif r>0:\n",
    "\n",
    "    print(a,\"is odd number \")\n",
    "\n",
    "else:\n",
    "\n",
    "    print(\"you enter a number 0 or less than 0\")\n",
    "    "
   ]
  },
  {
   "cell_type": "markdown",
   "id": "908680f3-1bef-49b9-9722-3913eb3fefda",
   "metadata": {},
   "source": [
    "# 43 WAP TO CREATE A TUPLE OF VALUES INPUTED BY USER"
   ]
  },
  {
   "cell_type": "code",
   "execution_count": 14,
   "id": "9451a650-146d-41b2-917d-bb73821355cc",
   "metadata": {},
   "outputs": [
    {
     "name": "stdin",
     "output_type": "stream",
     "text": [
      "enter limit  6\n",
      "enter element  8\n",
      "enter element  8\n",
      "enter element  0\n",
      "enter element  0\n",
      "enter element  6\n",
      "enter element  4\n",
      "enter element  4\n",
      "enter element  4\n",
      "enter element  4\n",
      "enter element  \n"
     ]
    },
    {
     "ename": "ValueError",
     "evalue": "invalid literal for int() with base 10: ''",
     "output_type": "error",
     "traceback": [
      "\u001b[1;31m---------------------------------------------------------------------------\u001b[0m",
      "\u001b[1;31mValueError\u001b[0m                                Traceback (most recent call last)",
      "Cell \u001b[1;32mIn[14], line 5\u001b[0m\n\u001b[0;32m      3\u001b[0m c\u001b[38;5;241m=\u001b[39m\u001b[38;5;28mint\u001b[39m(\u001b[38;5;28minput\u001b[39m(\u001b[38;5;124m\"\u001b[39m\u001b[38;5;124menter limit \u001b[39m\u001b[38;5;124m\"\u001b[39m))\n\u001b[0;32m      4\u001b[0m \u001b[38;5;28;01mfor\u001b[39;00m i \u001b[38;5;129;01min\u001b[39;00m \u001b[38;5;28mrange\u001b[39m(\u001b[38;5;241m0\u001b[39m,n):\n\u001b[1;32m----> 5\u001b[0m     d\u001b[38;5;241m=\u001b[39m\u001b[38;5;28mint\u001b[39m(\u001b[38;5;28minput\u001b[39m(\u001b[38;5;124m\"\u001b[39m\u001b[38;5;124menter element \u001b[39m\u001b[38;5;124m\"\u001b[39m))\n\u001b[0;32m      6\u001b[0m     b\u001b[38;5;241m.\u001b[39mappend(d)\n\u001b[0;32m      7\u001b[0m a\u001b[38;5;241m=\u001b[39ma\u001b[38;5;241m+\u001b[39m\u001b[38;5;28mtuple\u001b[39m(b)\n",
      "\u001b[1;31mValueError\u001b[0m: invalid literal for int() with base 10: ''"
     ]
    }
   ],
   "source": [
    "a=()\n",
    "b=[]\n",
    "c=int(input(\"enter limit \"))\n",
    "for i in range(0,n):\n",
    "    d=int(input(\"enter element \"))\n",
    "    b.append(d)\n",
    "a=a+tuple(b)\n",
    "print(\"tule is\",a)"
   ]
  },
  {
   "cell_type": "markdown",
   "id": "a04148a1-8b79-46cc-a145-c794c0c65e23",
   "metadata": {},
   "source": [
    "# 44 WAP TO REVERSE AN INTEGER"
   ]
  },
  {
   "cell_type": "code",
   "execution_count": 17,
   "id": "3ad0859c-4f5f-4c0f-8eab-f9d4a693dba7",
   "metadata": {},
   "outputs": [
    {
     "name": "stdin",
     "output_type": "stream",
     "text": [
      "enter the integer  8307989110\n"
     ]
    },
    {
     "name": "stdout",
     "output_type": "stream",
     "text": [
      "the reversed integer is: 119897038\n"
     ]
    }
   ],
   "source": [
    "n=int(input(\"enter the integer \"))\n",
    "x=n\n",
    "r=0\n",
    "while n>0:\n",
    "    d=n%10\n",
    "    r=r*10+d\n",
    "    n=n//10\n",
    "print(\"the reversed integer is:\",r)"
   ]
  },
  {
   "cell_type": "code",
   "execution_count": null,
   "id": "11daf61a-75a0-4aa3-ae25-e837b933c716",
   "metadata": {},
   "outputs": [],
   "source": []
  }
 ],
 "metadata": {
  "kernelspec": {
   "display_name": "Python 3 (ipykernel)",
   "language": "python",
   "name": "python3"
  },
  "language_info": {
   "codemirror_mode": {
    "name": "ipython",
    "version": 3
   },
   "file_extension": ".py",
   "mimetype": "text/x-python",
   "name": "python",
   "nbconvert_exporter": "python",
   "pygments_lexer": "ipython3",
   "version": "3.12.7"
  }
 },
 "nbformat": 4,
 "nbformat_minor": 5
}
